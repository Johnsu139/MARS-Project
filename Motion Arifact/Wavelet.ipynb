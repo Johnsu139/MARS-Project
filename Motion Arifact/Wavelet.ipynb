{
 "cells": [
  {
   "cell_type": "code",
   "execution_count": null,
   "metadata": {},
   "outputs": [],
   "source": [
    "#wavelet transform inspired by J.Shukla. Unfinished algorithm.\n",
    "#Written entirely on own."
   ]
  },
  {
   "cell_type": "code",
   "execution_count": null,
   "metadata": {
    "id": "W7TLmQl8dXy-"
   },
   "outputs": [],
   "source": [
    "import numpy as np\n",
    "import pandas as pd\n",
    "import matplotlib.pyplot as plt\n",
    "import pywt\n",
    "import os\n",
    "from scipy.stats import laplace"
   ]
  },
  {
   "cell_type": "code",
   "execution_count": null,
   "metadata": {
    "colab": {
     "base_uri": "https://localhost:8080/",
     "height": 252
    },
    "id": "zAsVJ_zqfP-8",
    "outputId": "4c08cca9-638f-46a0-d79e-fad2ed96a60b"
   },
   "outputs": [
    {
     "data": {
      "text/plain": [
       "<bound method NDFrame.head of            timestamp    TIMESTAMP   ACCEL_X  ...      PPG_RAW  HEART_RATE      HRV\n",
       "0      264135.876295  373410.8125 -8.509874  ...  1599.267456  207.567566  296.875\n",
       "1      264135.877427  373418.6250 -8.495512  ...  1630.036621  207.567566  296.875\n",
       "2      264135.878689  373426.4375 -8.529024  ...  1656.410278  207.567566  296.875\n",
       "3      264135.879457  373434.2500 -8.507481  ...  1679.120850  207.567566  296.875\n",
       "4      264135.889431  373442.0625 -8.445242  ...  1694.505493  207.567566  296.875\n",
       "...              ...          ...       ...  ...          ...         ...      ...\n",
       "31181  264379.504086  617082.6875 -7.162179  ...  1403.662964   76.039604  812.500\n",
       "31182  264379.518980  617090.5000 -7.159785  ...  1413.186768   76.039604  812.500\n",
       "31183  264379.529876  617098.3125 -7.289049  ...  1421.978027   76.039604  812.500\n",
       "31184  264379.530211  617106.1250 -7.614602  ...  1430.036621   76.039604  812.500\n",
       "31185  264379.544043  617113.9375 -7.834829  ...  1438.095215   76.039604  812.500\n",
       "\n",
       "[31186 rows x 13 columns]>"
      ]
     },
     "execution_count": 2,
     "metadata": {
      "tags": []
     },
     "output_type": "execute_result"
    }
   ],
   "source": [
    "#set working directory\n",
    "url = 'https://raw.githubusercontent.com/KG-PHD/John/master/data/ShimmerData.csv'\n",
    "\n",
    "\"\"\"Setting Up Parameters\"\"\"\n",
    "df = pd.read_csv(url)\n",
    "df.head"
   ]
  },
  {
   "cell_type": "code",
   "execution_count": null,
   "metadata": {
    "id": "TeQDWn9OdXzH"
   },
   "outputs": [],
   "source": [
    "\n",
    "Time = df['timestamp']\n",
    "X = df['ACCEL_X']\n",
    "Y = df['ACCEL_Y']\n",
    "Z = df['ACCEL_Z']\n",
    "SC = df['GSR_CON']\n",
    "#SkinResistance = df['Skin Resistance']\n",
    "#PPG = df['PPG']\n",
    "#HRV = df['HRV']\n",
    "#HeartRate = df['Heart Rate']\n",
    "#GyroP = df['Gyro P (Shimmer)']\n",
    "#GyroR = df['Gyro R (Shimmer)']\n",
    "#GyroY = df['Gyro Y (Shimmer)']"
   ]
  },
  {
   "cell_type": "markdown",
   "metadata": {
    "id": "yYUA0Xc7dXzO"
   },
   "source": [
    "# Wavelet Functions (Wavelet-Based Motion Artifact Removal for Electrodermal Activity)"
   ]
  },
  {
   "cell_type": "code",
   "execution_count": null,
   "metadata": {
    "id": "cQcmDgt8dXzQ"
   },
   "outputs": [],
   "source": [
    "[(cA1,cD1)] = pywt.swt(SC,'Haar', level= 1,trim_approx=False, norm= True)\n",
    "\n",
    "N = len(SC)\n",
    "delta = 0.1\n",
    "scale = (1/N)*np.sum(cA1)\n",
    "T_high = scale * np.log(delta)\n",
    "T_low = T_high * -1\n",
    "lap = laplace.pdf(cD1, 0, scale)\n",
    "cum = laplace.cdf(T_high,0,scale)\n",
    "\n",
    "result = pywt.iswt([cA1,cD1],'Haar')"
   ]
  },
  {
   "cell_type": "markdown",
   "metadata": {
    "id": "o31re42Hlfuo"
   },
   "source": []
  },
  {
   "cell_type": "code",
   "execution_count": null,
   "metadata": {
    "id": "XfYKUN01ib0I"
   },
   "outputs": [],
   "source": [
    "\n",
    "for values in cA1:\n",
    "  if (values < T_low)&(values > T_high):\n",
    "    values = 0"
   ]
  },
  {
   "cell_type": "code",
   "execution_count": null,
   "metadata": {
    "colab": {
     "base_uri": "https://localhost:8080/",
     "height": 34
    },
    "id": "JtCGUUqxmj-p",
    "outputId": "1d5b09ea-641b-4f76-f4fb-fe232fc905b9"
   },
   "outputs": [
    {
     "name": "stdout",
     "output_type": "stream",
     "text": [
      "[2, 3, 3, 4, 5, 7, 8]\n"
     ]
    }
   ],
   "source": []
  },
  {
   "cell_type": "markdown",
   "metadata": {
    "id": "bX8BCqM1tAeS"
   },
   "source": []
  },
  {
   "cell_type": "code",
   "execution_count": null,
   "metadata": {
    "colab": {
     "base_uri": "https://localhost:8080/",
     "height": 282
    },
    "id": "mAFCH9cZnLIm",
    "outputId": "a65dbb96-bb8a-4f1c-d2b8-e37745e36b86"
   },
   "outputs": [
    {
     "data": {
      "text/plain": [
       "[<matplotlib.lines.Line2D at 0x7fa6989065f8>]"
      ]
     },
     "execution_count": 11,
     "metadata": {
      "tags": []
     },
     "output_type": "execute_result"
    },
    {
     "data": {
      "image/png": "[encoded data removed]",
      "text/plain": [
       "<Figure size 432x288 with 1 Axes>"
      ]
     },
     "metadata": {
      "needs_background": "light",
      "tags": []
     },
     "output_type": "display_data"
    }
   ],
   "source": [
    "plt.plot(SC)\n",
    "plt.plot(result)"
   ]
  },
  {
   "cell_type": "code",
   "execution_count": null,
   "metadata": {
    "colab": {
     "base_uri": "https://localhost:8080/",
     "height": 282
    },
    "id": "ChN5Ddi0nRCi",
    "outputId": "eb9cb40b-3d33-4ade-b36c-f76a7c3e549e"
   },
   "outputs": [
    {
     "data": {
      "text/plain": [
       "[<matplotlib.lines.Line2D at 0x7fef7048bcc0>]"
      ]
     },
     "execution_count": 19,
     "metadata": {
      "tags": []
     },
     "output_type": "execute_result"
    },
    {
     "data": {
      "image/png": "[encoded data removed]",
      "text/plain": [
       "<Figure size 432x288 with 1 Axes>"
      ]
     },
     "metadata": {
      "needs_background": "light",
      "tags": []
     },
     "output_type": "display_data"
    }
   ],
   "source": [
    "plt.plot(cD1)"
   ]
  },
  {
   "cell_type": "code",
   "execution_count": null,
   "metadata": {
    "colab": {
     "base_uri": "https://localhost:8080/",
     "height": 282
    },
    "id": "SEHDdMIMdXzX",
    "outputId": "1d9263d5-9d9a-42af-ccc7-114e24da9400"
   },
   "outputs": [
    {
     "data": {
      "text/plain": [
       "[<matplotlib.lines.Line2D at 0x7fef70f8b6d8>]"
      ]
     },
     "execution_count": 17,
     "metadata": {
      "tags": []
     },
     "output_type": "execute_result"
    },
    {
     "data": {
      "image/png": "[encoded data removed]",
      "text/plain": [
       "<Figure size 432x288 with 1 Axes>"
      ]
     },
     "metadata": {
      "needs_background": "light",
      "tags": []
     },
     "output_type": "display_data"
    }
   ],
   "source": [
    "plt.plot(cA1)"
   ]
  }
 ],
 "metadata": {
  "colab": {
   "name": "Wavelet.ipynb",
   "provenance": []
  },
  "kernelspec": {
   "display_name": "Python 3",
   "language": "python",
   "name": "python3"
  },
  "language_info": {
   "codemirror_mode": {
    "name": "ipython",
    "version": 3
   },
   "file_extension": ".py",
   "mimetype": "text/x-python",
   "name": "python",
   "nbconvert_exporter": "python",
   "pygments_lexer": "ipython3",
   "version": "3.7.7"
  }
 },
 "nbformat": 4,
 "nbformat_minor": 1
}
