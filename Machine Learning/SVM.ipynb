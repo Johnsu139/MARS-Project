{
 "cells": [
  {
   "cell_type": "code",
   "execution_count": null,
   "metadata": {},
   "outputs": [],
   "source": [
    "#This code runs in sample and out of sample for the support vector machine model"
   ]
  },
  {
   "cell_type": "code",
   "execution_count": 20,
   "metadata": {},
   "outputs": [],
   "source": [
    "import numpy as np\n",
    "from sklearn.model_selection import LeaveOneGroupOut,GridSearchCV\n",
    "from sklearn.metrics import roc_auc_score,plot_confusion_matrix, confusion_matrix\n",
    "from sklearn import svm\n",
    "from sklearn.linear_model import LogisticRegression\n",
    "from sklearn.neighbors import KNeighborsClassifier, NearestNeighbors\n",
    "from sklearn.ensemble import RandomForestClassifier,IsolationForest\n",
    "from sklearn.neural_network import MLPClassifier\n",
    "import matplotlib.pyplot as plt\n",
    "nJobs = 12  # Number of cores to use\n",
    "\n"
   ]
  },
  {
   "cell_type": "code",
   "execution_count": 2,
   "metadata": {},
   "outputs": [],
   "source": [
    "# Load feature matrices, labels, and groups (denoting which labeled time\n",
    "# segment each row of the feature matrix comes from)\n",
    "featuresAll = np.loadtxt('JohnAll.csv',delimiter=',')\n",
    "featuresAcc = np.loadtxt('JohnAcc.csv',delimiter=',')\n",
    "featuresEda = np.loadtxt('JohnEda.csv',delimiter=',')\n",
    "labels = np.loadtxt('JohnLabels.csv',delimiter=',')\n",
    "groups = np.loadtxt('JohnGroups.csv',delimiter=',')\n",
    "NickAll = np.loadtxt('NickAll.csv',delimiter=',')\n",
    "NickAcc = np.loadtxt('NickAcc.csv',delimiter=',')\n",
    "NickEda = np.loadtxt('NickEda.csv',delimiter=',')\n",
    "NickLabels = np.loadtxt('NickLabels.csv',delimiter=',')\n",
    "NickGroups = np.loadtxt('NickGroups.csv',delimiter=',')\n",
    "\n",
    "\n",
    "# Leave-one-group-out cross-validation\n",
    "cv = LeaveOneGroupOut() \n",
    "\n"
   ]
  },
  {
   "cell_type": "code",
   "execution_count": 3,
   "metadata": {},
   "outputs": [
    {
     "name": "stderr",
     "output_type": "stream",
     "text": [
      "D:\\Engineering\\PROJECTMARS\\envs\\lib\\site-packages\\sklearn\\utils\\validation.py:71: FutureWarning: Pass scoring=roc_auc as keyword args. From version 0.25 passing these as positional arguments will result in an error\n",
      "  FutureWarning)\n",
      "D:\\Engineering\\PROJECTMARS\\envs\\lib\\site-packages\\sklearn\\utils\\validation.py:71: FutureWarning: Pass groups=[0. 0. 0. 0. 0. 0. 0. 0. 0. 0. 0. 0. 0. 0. 0. 0. 0. 0. 0. 0. 0. 0. 0. 0.\n",
      " 0. 0. 0. 0. 0. 0. 0. 0. 0. 0. 0. 0. 0. 0. 0. 0. 0. 0. 0. 0. 0. 0. 0. 0.\n",
      " 0. 0. 0. 0. 0. 0. 0. 0. 0. 0. 0. 0. 0. 0. 0. 0. 0. 0. 0. 0. 0. 0. 0. 0.\n",
      " 0. 0. 0. 0. 0. 0. 0. 0. 0. 0. 0. 0. 0. 0. 0. 0. 0. 0. 0. 0. 0. 0. 0. 0.\n",
      " 0. 0. 0. 0. 0. 0. 0. 0. 0. 1. 1. 1. 1. 1. 1. 1. 1. 1. 1. 1. 1. 1. 1. 1.\n",
      " 1. 1. 1. 1. 1. 1. 1. 1. 1. 1. 1. 1. 1. 1. 1. 1. 1. 1. 1. 1. 1. 1. 1. 1.\n",
      " 1. 1. 1. 1. 1. 1. 1. 1. 1. 1. 1. 1. 1. 1. 1. 1. 1. 1. 1. 1. 1. 1. 1. 1.\n",
      " 1. 1. 1. 1. 1. 1. 1. 1. 1. 1. 1. 1. 1. 1. 1. 1. 1. 1. 1. 1. 1. 1. 1. 1.\n",
      " 1. 1. 1. 1. 1. 1. 1. 1. 1. 1. 1. 1. 2. 2. 2. 2. 2. 2. 2. 2. 2. 2. 2. 2.\n",
      " 2. 2. 2. 2. 2. 2. 2. 2. 2. 2. 2. 2. 2. 2. 2. 2. 2. 2. 2. 2. 2. 2. 2. 2.\n",
      " 2. 2. 2. 2. 2. 2. 2. 2. 2. 2. 2. 2. 2. 2. 2. 2. 2. 2. 2. 2. 2. 2. 2. 2.\n",
      " 2. 2. 2. 2. 2. 2. 2. 2. 2. 2. 2. 2. 2. 2. 2. 2. 3. 3. 3. 3. 3. 3. 3. 3.\n",
      " 3. 3. 3. 3. 3. 3. 3. 3. 3. 3. 3. 3. 3. 3. 3. 3. 3. 3. 3. 3. 3. 3. 3. 3.\n",
      " 3. 3. 3. 3. 3. 3. 3. 3. 3. 3. 3. 3. 3. 3. 3. 3. 3. 3. 3. 3. 3. 3. 3. 3.\n",
      " 3. 3. 3. 3. 3. 3. 3. 3. 3. 3. 3. 3. 3. 3. 3. 3. 3. 3. 3. 3. 3. 3. 3. 3.\n",
      " 3. 3. 3. 3. 3. 3. 3. 3. 3. 3. 3. 3. 3. 3. 3. 3. 3. 3. 3. 3. 3. 3. 3. 3.\n",
      " 3. 3. 3. 3. 3. 3. 3. 3. 3. 3. 3. 3. 3. 3. 3. 3. 4. 4. 4. 4. 4. 4. 4. 4.\n",
      " 4. 4. 4. 4. 4. 4. 4. 4. 4. 4. 4. 4. 4. 4. 4. 4. 4. 4. 4. 4. 4. 4. 4. 4.\n",
      " 4. 4. 4. 4. 4. 4. 4. 4. 4. 4. 4. 4. 4. 4. 4. 4. 4. 4. 4. 4. 4. 4. 4. 4.\n",
      " 4. 4. 4. 4. 4. 4. 4. 4. 4. 4. 4. 4. 4. 4. 4. 4. 4. 4. 4. 4. 4. 4. 4. 4.\n",
      " 4. 4. 4. 4. 4. 4. 4. 4. 4. 4. 4. 4. 4. 4. 5. 5. 5. 5. 5. 5. 5. 5. 5. 5.\n",
      " 5. 5. 5. 5. 5. 5. 5. 5. 5. 5. 5. 5. 5. 5. 5. 5. 5. 5. 5. 5. 5. 5. 5. 5.\n",
      " 5. 5. 5. 5. 5. 5. 5. 5. 5. 5. 5. 5. 5. 5. 5. 5. 5. 5. 5. 5. 5. 5. 5. 5.\n",
      " 5. 5. 5. 5. 5. 5. 5. 5. 5. 5. 5. 5. 5. 5. 5. 5. 5. 5. 5. 5. 5. 5. 5. 5.\n",
      " 5. 5. 5. 5. 6. 6. 6. 6. 6. 6. 6. 6. 6. 6. 6. 6. 6. 6. 6. 6. 6. 6. 6. 6.\n",
      " 6. 6. 6. 6. 6. 6. 6. 6. 6. 6. 6. 6. 6. 6. 6. 6. 6. 6. 6. 6. 6. 6. 6. 6.\n",
      " 6. 6. 6. 6. 6. 6. 6. 6. 6. 6. 6. 6. 6. 6. 6. 6. 6. 6. 6. 6. 6. 6. 6. 6.\n",
      " 6. 6. 6. 6. 6. 6. 6. 6. 6. 6. 6. 6. 6. 6. 6. 6. 6. 6. 6. 6. 6. 6. 6. 6.\n",
      " 6. 6. 6. 6. 6. 6. 6. 6. 6. 6. 6. 6. 6. 6. 6.] as keyword args. From version 0.25 passing these as positional arguments will result in an error\n",
      "  FutureWarning)\n",
      "[Parallel(n_jobs=12)]: Using backend LokyBackend with 12 concurrent workers.\n"
     ]
    },
    {
     "name": "stdout",
     "output_type": "stream",
     "text": [
      "Fitting 7 folds for each of 90 candidates, totalling 630 fits\n"
     ]
    },
    {
     "name": "stderr",
     "output_type": "stream",
     "text": [
      "[Parallel(n_jobs=12)]: Done  26 tasks      | elapsed:    2.1s\n",
      "[Parallel(n_jobs=12)]: Done 260 tasks      | elapsed:    4.0s\n",
      "[Parallel(n_jobs=12)]: Done 607 out of 630 | elapsed:    6.6s remaining:    0.2s\n",
      "[Parallel(n_jobs=12)]: Done 630 out of 630 | elapsed:    6.7s finished\n",
      "D:\\Engineering\\PROJECTMARS\\envs\\lib\\site-packages\\sklearn\\utils\\validation.py:71: FutureWarning: Pass scoring=roc_auc as keyword args. From version 0.25 passing these as positional arguments will result in an error\n",
      "  FutureWarning)\n",
      "D:\\Engineering\\PROJECTMARS\\envs\\lib\\site-packages\\sklearn\\utils\\validation.py:71: FutureWarning: Pass groups=[0. 0. 0. 0. 0. 0. 0. 0. 0. 0. 0. 0. 0. 0. 0. 0. 0. 0. 0. 0. 0. 0. 0. 0.\n",
      " 0. 0. 0. 0. 0. 0. 0. 0. 0. 0. 0. 0. 0. 0. 0. 0. 0. 0. 0. 0. 0. 0. 0. 0.\n",
      " 0. 0. 0. 0. 0. 0. 0. 0. 0. 0. 0. 0. 0. 0. 0. 0. 0. 0. 0. 0. 0. 0. 0. 0.\n",
      " 0. 0. 0. 0. 0. 0. 0. 0. 0. 0. 0. 0. 0. 0. 0. 0. 0. 0. 0. 0. 0. 0. 0. 0.\n",
      " 0. 0. 0. 0. 0. 0. 0. 0. 0. 1. 1. 1. 1. 1. 1. 1. 1. 1. 1. 1. 1. 1. 1. 1.\n",
      " 1. 1. 1. 1. 1. 1. 1. 1. 1. 1. 1. 1. 1. 1. 1. 1. 1. 1. 1. 1. 1. 1. 1. 1.\n",
      " 1. 1. 1. 1. 1. 1. 1. 1. 1. 1. 1. 1. 1. 1. 1. 1. 1. 1. 1. 1. 1. 1. 1. 1.\n",
      " 1. 1. 1. 1. 1. 1. 1. 1. 1. 1. 1. 1. 1. 1. 1. 1. 1. 1. 1. 1. 1. 1. 1. 1.\n",
      " 1. 1. 1. 1. 1. 1. 1. 1. 1. 1. 1. 1. 2. 2. 2. 2. 2. 2. 2. 2. 2. 2. 2. 2.\n",
      " 2. 2. 2. 2. 2. 2. 2. 2. 2. 2. 2. 2. 2. 2. 2. 2. 2. 2. 2. 2. 2. 2. 2. 2.\n",
      " 2. 2. 2. 2. 2. 2. 2. 2. 2. 2. 2. 2. 2. 2. 2. 2. 2. 2. 2. 2. 2. 2. 2. 2.\n",
      " 2. 2. 2. 2. 2. 2. 2. 2. 2. 2. 2. 2. 2. 2. 2. 2. 3. 3. 3. 3. 3. 3. 3. 3.\n",
      " 3. 3. 3. 3. 3. 3. 3. 3. 3. 3. 3. 3. 3. 3. 3. 3. 3. 3. 3. 3. 3. 3. 3. 3.\n",
      " 3. 3. 3. 3. 3. 3. 3. 3. 3. 3. 3. 3. 3. 3. 3. 3. 3. 3. 3. 3. 3. 3. 3. 3.\n",
      " 3. 3. 3. 3. 3. 3. 3. 3. 3. 3. 3. 3. 3. 3. 3. 3. 3. 3. 3. 3. 3. 3. 3. 3.\n",
      " 3. 3. 3. 3. 3. 3. 3. 3. 3. 3. 3. 3. 3. 3. 3. 3. 3. 3. 3. 3. 3. 3. 3. 3.\n",
      " 3. 3. 3. 3. 3. 3. 3. 3. 3. 3. 3. 3. 3. 3. 3. 3. 4. 4. 4. 4. 4. 4. 4. 4.\n",
      " 4. 4. 4. 4. 4. 4. 4. 4. 4. 4. 4. 4. 4. 4. 4. 4. 4. 4. 4. 4. 4. 4. 4. 4.\n",
      " 4. 4. 4. 4. 4. 4. 4. 4. 4. 4. 4. 4. 4. 4. 4. 4. 4. 4. 4. 4. 4. 4. 4. 4.\n",
      " 4. 4. 4. 4. 4. 4. 4. 4. 4. 4. 4. 4. 4. 4. 4. 4. 4. 4. 4. 4. 4. 4. 4. 4.\n",
      " 4. 4. 4. 4. 4. 4. 4. 4. 4. 4. 4. 4. 4. 4. 5. 5. 5. 5. 5. 5. 5. 5. 5. 5.\n",
      " 5. 5. 5. 5. 5. 5. 5. 5. 5. 5. 5. 5. 5. 5. 5. 5. 5. 5. 5. 5. 5. 5. 5. 5.\n",
      " 5. 5. 5. 5. 5. 5. 5. 5. 5. 5. 5. 5. 5. 5. 5. 5. 5. 5. 5. 5. 5. 5. 5. 5.\n",
      " 5. 5. 5. 5. 5. 5. 5. 5. 5. 5. 5. 5. 5. 5. 5. 5. 5. 5. 5. 5. 5. 5. 5. 5.\n",
      " 5. 5. 5. 5. 6. 6. 6. 6. 6. 6. 6. 6. 6. 6. 6. 6. 6. 6. 6. 6. 6. 6. 6. 6.\n",
      " 6. 6. 6. 6. 6. 6. 6. 6. 6. 6. 6. 6. 6. 6. 6. 6. 6. 6. 6. 6. 6. 6. 6. 6.\n",
      " 6. 6. 6. 6. 6. 6. 6. 6. 6. 6. 6. 6. 6. 6. 6. 6. 6. 6. 6. 6. 6. 6. 6. 6.\n",
      " 6. 6. 6. 6. 6. 6. 6. 6. 6. 6. 6. 6. 6. 6. 6. 6. 6. 6. 6. 6. 6. 6. 6. 6.\n",
      " 6. 6. 6. 6. 6. 6. 6. 6. 6. 6. 6. 6. 6. 6. 6.] as keyword args. From version 0.25 passing these as positional arguments will result in an error\n",
      "  FutureWarning)\n",
      "[Parallel(n_jobs=12)]: Using backend LokyBackend with 12 concurrent workers.\n"
     ]
    },
    {
     "name": "stdout",
     "output_type": "stream",
     "text": [
      "Fitting 7 folds for each of 90 candidates, totalling 630 fits\n"
     ]
    },
    {
     "name": "stderr",
     "output_type": "stream",
     "text": [
      "[Parallel(n_jobs=12)]: Done  28 tasks      | elapsed:    0.1s\n",
      "[Parallel(n_jobs=12)]: Done 575 tasks      | elapsed:    3.3s\n",
      "[Parallel(n_jobs=12)]: Done 607 out of 630 | elapsed:    3.5s remaining:    0.0s\n",
      "[Parallel(n_jobs=12)]: Done 630 out of 630 | elapsed:    3.6s finished\n",
      "D:\\Engineering\\PROJECTMARS\\envs\\lib\\site-packages\\sklearn\\utils\\validation.py:71: FutureWarning: Pass scoring=roc_auc as keyword args. From version 0.25 passing these as positional arguments will result in an error\n",
      "  FutureWarning)\n",
      "D:\\Engineering\\PROJECTMARS\\envs\\lib\\site-packages\\sklearn\\utils\\validation.py:71: FutureWarning: Pass groups=[0. 0. 0. 0. 0. 0. 0. 0. 0. 0. 0. 0. 0. 0. 0. 0. 0. 0. 0. 0. 0. 0. 0. 0.\n",
      " 0. 0. 0. 0. 0. 0. 0. 0. 0. 0. 0. 0. 0. 0. 0. 0. 0. 0. 0. 0. 0. 0. 0. 0.\n",
      " 0. 0. 0. 0. 0. 0. 0. 0. 0. 0. 0. 0. 0. 0. 0. 0. 0. 0. 0. 0. 0. 0. 0. 0.\n",
      " 0. 0. 0. 0. 0. 0. 0. 0. 0. 0. 0. 0. 0. 0. 0. 0. 0. 0. 0. 0. 0. 0. 0. 0.\n",
      " 0. 0. 0. 0. 0. 0. 0. 0. 0. 1. 1. 1. 1. 1. 1. 1. 1. 1. 1. 1. 1. 1. 1. 1.\n",
      " 1. 1. 1. 1. 1. 1. 1. 1. 1. 1. 1. 1. 1. 1. 1. 1. 1. 1. 1. 1. 1. 1. 1. 1.\n",
      " 1. 1. 1. 1. 1. 1. 1. 1. 1. 1. 1. 1. 1. 1. 1. 1. 1. 1. 1. 1. 1. 1. 1. 1.\n",
      " 1. 1. 1. 1. 1. 1. 1. 1. 1. 1. 1. 1. 1. 1. 1. 1. 1. 1. 1. 1. 1. 1. 1. 1.\n",
      " 1. 1. 1. 1. 1. 1. 1. 1. 1. 1. 1. 1. 2. 2. 2. 2. 2. 2. 2. 2. 2. 2. 2. 2.\n",
      " 2. 2. 2. 2. 2. 2. 2. 2. 2. 2. 2. 2. 2. 2. 2. 2. 2. 2. 2. 2. 2. 2. 2. 2.\n",
      " 2. 2. 2. 2. 2. 2. 2. 2. 2. 2. 2. 2. 2. 2. 2. 2. 2. 2. 2. 2. 2. 2. 2. 2.\n",
      " 2. 2. 2. 2. 2. 2. 2. 2. 2. 2. 2. 2. 2. 2. 2. 2. 3. 3. 3. 3. 3. 3. 3. 3.\n",
      " 3. 3. 3. 3. 3. 3. 3. 3. 3. 3. 3. 3. 3. 3. 3. 3. 3. 3. 3. 3. 3. 3. 3. 3.\n",
      " 3. 3. 3. 3. 3. 3. 3. 3. 3. 3. 3. 3. 3. 3. 3. 3. 3. 3. 3. 3. 3. 3. 3. 3.\n",
      " 3. 3. 3. 3. 3. 3. 3. 3. 3. 3. 3. 3. 3. 3. 3. 3. 3. 3. 3. 3. 3. 3. 3. 3.\n",
      " 3. 3. 3. 3. 3. 3. 3. 3. 3. 3. 3. 3. 3. 3. 3. 3. 3. 3. 3. 3. 3. 3. 3. 3.\n",
      " 3. 3. 3. 3. 3. 3. 3. 3. 3. 3. 3. 3. 3. 3. 3. 3. 4. 4. 4. 4. 4. 4. 4. 4.\n",
      " 4. 4. 4. 4. 4. 4. 4. 4. 4. 4. 4. 4. 4. 4. 4. 4. 4. 4. 4. 4. 4. 4. 4. 4.\n",
      " 4. 4. 4. 4. 4. 4. 4. 4. 4. 4. 4. 4. 4. 4. 4. 4. 4. 4. 4. 4. 4. 4. 4. 4.\n",
      " 4. 4. 4. 4. 4. 4. 4. 4. 4. 4. 4. 4. 4. 4. 4. 4. 4. 4. 4. 4. 4. 4. 4. 4.\n",
      " 4. 4. 4. 4. 4. 4. 4. 4. 4. 4. 4. 4. 4. 4. 5. 5. 5. 5. 5. 5. 5. 5. 5. 5.\n",
      " 5. 5. 5. 5. 5. 5. 5. 5. 5. 5. 5. 5. 5. 5. 5. 5. 5. 5. 5. 5. 5. 5. 5. 5.\n",
      " 5. 5. 5. 5. 5. 5. 5. 5. 5. 5. 5. 5. 5. 5. 5. 5. 5. 5. 5. 5. 5. 5. 5. 5.\n",
      " 5. 5. 5. 5. 5. 5. 5. 5. 5. 5. 5. 5. 5. 5. 5. 5. 5. 5. 5. 5. 5. 5. 5. 5.\n",
      " 5. 5. 5. 5. 6. 6. 6. 6. 6. 6. 6. 6. 6. 6. 6. 6. 6. 6. 6. 6. 6. 6. 6. 6.\n",
      " 6. 6. 6. 6. 6. 6. 6. 6. 6. 6. 6. 6. 6. 6. 6. 6. 6. 6. 6. 6. 6. 6. 6. 6.\n",
      " 6. 6. 6. 6. 6. 6. 6. 6. 6. 6. 6. 6. 6. 6. 6. 6. 6. 6. 6. 6. 6. 6. 6. 6.\n",
      " 6. 6. 6. 6. 6. 6. 6. 6. 6. 6. 6. 6. 6. 6. 6. 6. 6. 6. 6. 6. 6. 6. 6. 6.\n",
      " 6. 6. 6. 6. 6. 6. 6. 6. 6. 6. 6. 6. 6. 6. 6.] as keyword args. From version 0.25 passing these as positional arguments will result in an error\n",
      "  FutureWarning)\n",
      "[Parallel(n_jobs=12)]: Using backend LokyBackend with 12 concurrent workers.\n",
      "[Parallel(n_jobs=12)]: Done  28 tasks      | elapsed:    0.0s\n"
     ]
    },
    {
     "name": "stdout",
     "output_type": "stream",
     "text": [
      "Fitting 7 folds for each of 90 candidates, totalling 630 fits\n"
     ]
    },
    {
     "name": "stderr",
     "output_type": "stream",
     "text": [
      "[Parallel(n_jobs=12)]: Done 630 out of 630 | elapsed:    1.8s finished\n"
     ]
    }
   ],
   "source": [
    "# Svm\n",
    "# Parameter tuning by grid search\n",
    "regParamC = 10. ** np.arange(-5, 4)\n",
    "regParamG = 10. ** np.arange(-9, 1)\n",
    "parameters = {'gamma': regParamG, 'C': regParamC}\n",
    "              \n",
    "svmgsAll = GridSearchCV(svm.SVC(),\n",
    "                     parameters,'roc_auc',n_jobs=nJobs,cv=cv,refit=False,\n",
    "                     verbose=1)              \n",
    "svmgsAll.fit(featuresAll,labels,groups)\n",
    "\n",
    "\n",
    "svmbestgamma_All = svmgsAll.best_params_['gamma']\n",
    "svmbestC_All = svmgsAll.best_params_['C']\n",
    "\n",
    "svmgsAcc = GridSearchCV(svm.SVC(),\n",
    "                     parameters,'roc_auc',n_jobs=nJobs,cv=cv,refit=False,\n",
    "                     verbose=1)\n",
    "svmgsAcc.fit(featuresAcc,labels,groups)\n",
    "svmbestgamma_Acc = svmgsAcc.best_params_['gamma']\n",
    "svmbestC_Acc = svmgsAcc.best_params_['C']\n",
    "\n",
    "svmgsEda = GridSearchCV(svm.SVC(),\n",
    "                     parameters,'roc_auc',n_jobs=nJobs,cv=cv,refit=False,\n",
    "                     verbose=1)\n",
    "svmgsEda.fit(featuresEda,labels,groups)\n",
    "svmbestgamma_Eda = svmgsEda.best_params_['gamma']\n",
    "svmbestC_Eda = svmgsEda.best_params_['C']\n",
    "\n",
    "\n",
    "\n",
    "\n",
    "\n",
    "\n"
   ]
  },
  {
   "cell_type": "code",
   "execution_count": 23,
   "metadata": {},
   "outputs": [
    {
     "name": "stdout",
     "output_type": "stream",
     "text": [
      "SVM AUC ALL: 0.836193 ({'C': 1e-05, 'gamma': 0.0001})\n",
      "SVM AUC ACC: 0.835567 ({'C': 1.0, 'gamma': 1e-06})\n",
      "SVM AUC EDA: 0.580223 ({'C': 10.0, 'gamma': 0.01})\n"
     ]
    },
    {
     "data": {
      "text/plain": [
       "array([[481,   0],\n",
       "       [206,   0]], dtype=int64)"
      ]
     },
     "execution_count": 23,
     "metadata": {},
     "output_type": "execute_result"
    }
   ],
   "source": [
    "svmpredAll = np.zeros(np.shape(labels))\n",
    "svmpredAll2 = np.zeros(np.shape(labels))\n",
    "svmpredAcc = np.zeros(np.shape(labels))\n",
    "svmpredEda = np.zeros(np.shape(labels))\n",
    "#training the model with dataset\n",
    "for train, test in cv.split(featuresAll,labels,groups):\n",
    "    svmAll = svm.SVC(gamma=svmbestgamma_All, C=svmbestC_All,probability=True)\n",
    "    svmAll.fit(featuresAll[train,:],labels[train])\n",
    "    svmpredAll[test] = svmAll.predict_proba(featuresAll[test,:])[:,1]\n",
    "    svmpredAll2[test] =  svmAll.predict(featuresAll[test,:])\n",
    "    svmAcc = svm.SVC(gamma=svmbestgamma_Acc, C=svmbestC_Acc,probability=True)\n",
    "    svmAcc.fit(featuresAcc[train,:],labels[train])\n",
    "    svmpredAcc[test] = svmAcc.predict_proba(featuresAcc[test,:])[:,1]\n",
    "\n",
    "    svmEda = svm.SVC(gamma=svmbestgamma_Eda, C=svmbestC_Eda,probability=True)\n",
    "    svmEda.fit(featuresEda[train,:],labels[train])\n",
    "    svmpredEda[test] = svmEda.predict_proba(featuresEda[test,:])[:,1]\n",
    "\n",
    "#accuracy of the model\n",
    "print('SVM AUC ALL: %f (%s)' % (roc_auc_score(labels,svmpredAll),svmgsAll.best_params_))\n",
    "print('SVM AUC ACC: %f (%s)' % (roc_auc_score(labels,svmpredAcc),svmgsAcc.best_params_))\n",
    "print('SVM AUC EDA: %f (%s)' % (roc_auc_score(labels,svmpredEda),svmgsEda.best_params_))\n"
   ]
  },
  {
   "cell_type": "code",
   "execution_count": 15,
   "metadata": {},
   "outputs": [
    {
     "name": "stdout",
     "output_type": "stream",
     "text": [
      "SVM AUC ALL PREDICTION: 0.859351 ({'C': 1000.0, 'gamma': 1e-06})\n",
      "SVM AUC ACC PREDICTION: 0.360578 ({'C': 1000.0, 'gamma': 0.1})\n",
      "SVM AUC EDA PREDICTION: 0.461376 ({'C': 1e-05, 'gamma': 0.1})\n"
     ]
    }
   ],
   "source": [
    "#testing the model with another dataset\n",
    "svmAll = svm.SVC(gamma=svmbestgamma_All, C=svmbestC_All, kernel='rbf',probability=True)\n",
    "svmAll.fit(featuresAll,labels)\n",
    "svmNickPredAll = svmAll.predict_proba(NickAll)[:,1]\n",
    "\n",
    "svmAcc = svm.SVC(gamma=svmbestgamma_Acc, C=svmbestC_Acc, kernel='rbf',probability=True)\n",
    "svmAcc.fit(featuresAcc,labels)\n",
    "svmNickPredAcc = svmAcc.predict_proba(NickAcc)[:,1]\n",
    "\n",
    "svmEda = svm.SVC(gamma=svmbestgamma_Eda, C=svmbestC_Eda, kernel='rbf',probability=True)\n",
    "svmEda.fit(featuresEda,labels)\n",
    "svmNickPredEda = svmEda.predict_proba(NickEda)[:,1]\n",
    "\n",
    "print('SVM AUC ALL PREDICTION: %f (%s)' % (roc_auc_score(NickLabels,svmNickPredAll),\n",
    "                            svmgsAll.best_params_))\n",
    "print('SVM AUC ACC PREDICTION: %f (%s)' % (roc_auc_score(NickLabels,svmNickPredAcc),\n",
    "                            svmgsAcc.best_params_))\n",
    "print('SVM AUC EDA PREDICTION: %f (%s)' % (roc_auc_score(NickLabels,svmNickPredEda),\n",
    "                            svmgsEda.best_params_))"
   ]
  },
  {
   "cell_type": "code",
   "execution_count": 18,
   "metadata": {},
   "outputs": [
    {
     "name": "stderr",
     "output_type": "stream",
     "text": [
      "D:\\Engineering\\PROJECTMARS\\envs\\lib\\site-packages\\sklearn\\utils\\validation.py:71: FutureWarning: Pass scoring=roc_auc as keyword args. From version 0.25 passing these as positional arguments will result in an error\n",
      "  FutureWarning)\n",
      "D:\\Engineering\\PROJECTMARS\\envs\\lib\\site-packages\\sklearn\\utils\\validation.py:71: FutureWarning: Pass groups=[0. 0. 0. ... 7. 7. 7.] as keyword args. From version 0.25 passing these as positional arguments will result in an error\n",
      "  FutureWarning)\n",
      "[Parallel(n_jobs=12)]: Using backend LokyBackend with 12 concurrent workers.\n"
     ]
    },
    {
     "name": "stdout",
     "output_type": "stream",
     "text": [
      "Fitting 8 folds for each of 90 candidates, totalling 720 fits\n"
     ]
    },
    {
     "name": "stderr",
     "output_type": "stream",
     "text": [
      "[Parallel(n_jobs=12)]: Done  26 tasks      | elapsed:    3.3s\n",
      "[Parallel(n_jobs=12)]: Done 176 tasks      | elapsed:    9.8s\n",
      "[Parallel(n_jobs=12)]: Done 426 tasks      | elapsed:   21.6s\n",
      "[Parallel(n_jobs=12)]: Done 720 out of 720 | elapsed:   35.4s finished\n",
      "D:\\Engineering\\PROJECTMARS\\envs\\lib\\site-packages\\sklearn\\utils\\validation.py:71: FutureWarning: Pass scoring=roc_auc as keyword args. From version 0.25 passing these as positional arguments will result in an error\n",
      "  FutureWarning)\n",
      "D:\\Engineering\\PROJECTMARS\\envs\\lib\\site-packages\\sklearn\\utils\\validation.py:71: FutureWarning: Pass groups=[0. 0. 0. ... 7. 7. 7.] as keyword args. From version 0.25 passing these as positional arguments will result in an error\n",
      "  FutureWarning)\n",
      "[Parallel(n_jobs=12)]: Using backend LokyBackend with 12 concurrent workers.\n"
     ]
    },
    {
     "name": "stdout",
     "output_type": "stream",
     "text": [
      "Fitting 8 folds for each of 90 candidates, totalling 720 fits\n"
     ]
    },
    {
     "name": "stderr",
     "output_type": "stream",
     "text": [
      "[Parallel(n_jobs=12)]: Done  28 tasks      | elapsed:    1.2s\n",
      "[Parallel(n_jobs=12)]: Done 328 tasks      | elapsed:   10.5s\n",
      "[Parallel(n_jobs=12)]: Done 720 out of 720 | elapsed:   23.8s finished\n",
      "D:\\Engineering\\PROJECTMARS\\envs\\lib\\site-packages\\sklearn\\utils\\validation.py:71: FutureWarning: Pass scoring=roc_auc as keyword args. From version 0.25 passing these as positional arguments will result in an error\n",
      "  FutureWarning)\n",
      "D:\\Engineering\\PROJECTMARS\\envs\\lib\\site-packages\\sklearn\\utils\\validation.py:71: FutureWarning: Pass groups=[0. 0. 0. ... 7. 7. 7.] as keyword args. From version 0.25 passing these as positional arguments will result in an error\n",
      "  FutureWarning)\n",
      "[Parallel(n_jobs=12)]: Using backend LokyBackend with 12 concurrent workers.\n"
     ]
    },
    {
     "name": "stdout",
     "output_type": "stream",
     "text": [
      "Fitting 8 folds for each of 90 candidates, totalling 720 fits\n"
     ]
    },
    {
     "name": "stderr",
     "output_type": "stream",
     "text": [
      "[Parallel(n_jobs=12)]: Done  28 tasks      | elapsed:    0.5s\n",
      "[Parallel(n_jobs=12)]: Done 328 tasks      | elapsed:    4.0s\n",
      "[Parallel(n_jobs=12)]: Done 720 out of 720 | elapsed:   11.0s finished\n"
     ]
    },
    {
     "name": "stdout",
     "output_type": "stream",
     "text": [
      "SVM AUC ALL: 0.604088 ({'C': 1000.0, 'gamma': 1e-06})\n",
      "SVM AUC ACC: 0.564822 ({'C': 1000.0, 'gamma': 0.1})\n",
      "SVM AUC EDA: 0.165172 ({'C': 1e-05, 'gamma': 0.1})\n"
     ]
    }
   ],
   "source": [
    "#training with the other datatset\n",
    "\n",
    "# Svm\n",
    "# Parameter tuning by grid search\n",
    "regParamC = 10. ** np.arange(-5, 4)\n",
    "regParamG = 10. ** np.arange(-9, 1)\n",
    "parameters = {'gamma': regParamG, 'C': regParamC}\n",
    "              \n",
    "svmgsAll = GridSearchCV(svm.SVC(),\n",
    "                     parameters,'roc_auc',n_jobs=nJobs,cv=cv,refit=False,\n",
    "                     verbose=1)              \n",
    "svmgsAll.fit(NickAll,NickLabels,NickGroups)\n",
    "svmbestgamma_All = svmgsAll.best_params_['gamma']\n",
    "svmbestC_All = svmgsAll.best_params_['C']\n",
    "\n",
    "svmgsAcc = GridSearchCV(svm.SVC(),\n",
    "                     parameters,'roc_auc',n_jobs=nJobs,cv=cv,refit=False,\n",
    "                     verbose=1)\n",
    "svmgsAcc.fit(NickAcc,NickLabels,NickGroups)\n",
    "svmbestgamma_Acc = svmgsAcc.best_params_['gamma']\n",
    "svmbestC_Acc = svmgsAcc.best_params_['C']\n",
    "\n",
    "svmgsEda = GridSearchCV(svm.SVC(),\n",
    "                     parameters,'roc_auc',n_jobs=nJobs,cv=cv,refit=False,\n",
    "                     verbose=1)\n",
    "svmgsEda.fit(NickEda,NickLabels,NickGroups)\n",
    "svmbestgamma_Eda = svmgsEda.best_params_['gamma']\n",
    "svmbestC_Eda = svmgsEda.best_params_['C']\n",
    "\n",
    "svmpredAll = np.zeros(np.shape(NickLabels))\n",
    "svmpredAcc = np.zeros(np.shape(NickLabels))\n",
    "svmpredEda = np.zeros(np.shape(NickLabels))\n",
    "for train, test in cv.split(NickAll,NickLabels,NickGroups):\n",
    "    svmAll = svm.SVC(gamma=svmbestgamma_All, C=svmbestC_All,probability=True)\n",
    "    svmAll.fit(NickAll[train,:],NickLabels[train])\n",
    "    svmpredAll[test] = svmAll.predict_proba(NickAll[test,:])[:,1]\n",
    "\n",
    "    svmAcc = svm.SVC(gamma=svmbestgamma_Acc, C=svmbestC_Acc,probability=True)\n",
    "    svmAcc.fit(NickAcc[train,:],NickLabels[train])\n",
    "    svmpredAcc[test] = svmAcc.predict_proba(NickAcc[test,:])[:,1]\n",
    "\n",
    "    svmEda = svm.SVC(gamma=svmbestgamma_Eda, C=svmbestC_Eda,probability=True)\n",
    "    svmEda.fit(NickEda[train,:],NickLabels[train])\n",
    "    svmpredEda[test] = svmEda.predict_proba(NickEda[test,:])[:,1]\n",
    "\n",
    "print('SVM AUC ALL: %f (%s)' % (roc_auc_score(NickLabels,svmpredAll),svmgsAll.best_params_))\n",
    "print('SVM AUC ACC: %f (%s)' % (roc_auc_score(NickLabels,svmpredAcc),svmgsAcc.best_params_))\n",
    "print('SVM AUC EDA: %f (%s)' % (roc_auc_score(NickLabels,svmpredEda),svmgsEda.best_params_))\n",
    "\n",
    "\n",
    "\n",
    "\n",
    "\n",
    "\n",
    "\n",
    "\n"
   ]
  },
  {
   "cell_type": "code",
   "execution_count": 19,
   "metadata": {},
   "outputs": [
    {
     "name": "stdout",
     "output_type": "stream",
     "text": [
      "SVM AUC ALL PREDICTION: 0.842955 ({'C': 1000.0, 'gamma': 1e-06})\n",
      "SVM AUC ACC PREDICTION: 0.753860 ({'C': 1000.0, 'gamma': 0.1})\n",
      "SVM AUC EDA PREDICTION: 0.471843 ({'C': 1e-05, 'gamma': 0.1})\n"
     ]
    }
   ],
   "source": [
    "#model prediction with the other dataset\n",
    "\n",
    "svmAll = svm.SVC(gamma=svmbestgamma_All, C=svmbestC_All, kernel='rbf',probability=True)\n",
    "svmAll.fit(NickAll,NickLabels)\n",
    "svmNickPredAll = svmAll.predict_proba(featuresAll)[:,1]\n",
    "\n",
    "svmAcc = svm.SVC(gamma=svmbestgamma_Acc, C=svmbestC_Acc, kernel='rbf',probability=True)\n",
    "svmAcc.fit(NickAcc,NickLabels)\n",
    "svmNickPredAcc = svmAcc.predict_proba(featuresAcc)[:,1]\n",
    "\n",
    "svmEda = svm.SVC(gamma=svmbestgamma_Eda, C=svmbestC_Eda, kernel='rbf',probability=True)\n",
    "svmEda.fit(NickEda,NickLabels)\n",
    "svmNickPredEda = svmEda.predict_proba(featuresEda)[:,1]\n",
    "\n",
    "print('SVM AUC ALL PREDICTION: %f (%s)' % (roc_auc_score(labels,svmNickPredAll),\n",
    "                            svmgsAll.best_params_))\n",
    "print('SVM AUC ACC PREDICTION: %f (%s)' % (roc_auc_score(labels,svmNickPredAcc),\n",
    "                            svmgsAcc.best_params_))\n",
    "print('SVM AUC EDA PREDICTION: %f (%s)' % (roc_auc_score(labels,svmNickPredEda),\n",
    "                            svmgsEda.best_params_))"
   ]
  },
  {
   "cell_type": "code",
   "execution_count": null,
   "metadata": {},
   "outputs": [],
   "source": []
  }
 ],
 "metadata": {
  "kernelspec": {
   "display_name": "Python 3",
   "language": "python",
   "name": "python3"
  },
  "language_info": {
   "codemirror_mode": {
    "name": "ipython",
    "version": 3
   },
   "file_extension": ".py",
   "mimetype": "text/x-python",
   "name": "python",
   "nbconvert_exporter": "python",
   "pygments_lexer": "ipython3",
   "version": "3.7.7"
  }
 },
 "nbformat": 4,
 "nbformat_minor": 4
}
